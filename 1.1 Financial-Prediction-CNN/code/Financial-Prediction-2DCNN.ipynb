{
 "cells": [
  {
   "cell_type": "code",
   "execution_count": 1,
   "metadata": {},
   "outputs": [
    {
     "name": "stdout",
     "output_type": "stream",
     "text": [
      "2.0.0-alpha0\n"
     ]
    }
   ],
   "source": [
    "import pandas as pd\n",
    "import numpy as np\n",
    "import tensorflow as tf\n",
    "from tensorflow import keras\n",
    "from tensorflow.keras import layers\n",
    "print(tf.__version__)"
   ]
  },
  {
   "cell_type": "code",
   "execution_count": 2,
   "metadata": {},
   "outputs": [
    {
     "data": {
      "text/html": [
       "<div>\n",
       "<style scoped>\n",
       "    .dataframe tbody tr th:only-of-type {\n",
       "        vertical-align: middle;\n",
       "    }\n",
       "\n",
       "    .dataframe tbody tr th {\n",
       "        vertical-align: top;\n",
       "    }\n",
       "\n",
       "    .dataframe thead th {\n",
       "        text-align: right;\n",
       "    }\n",
       "</style>\n",
       "<table border=\"1\" class=\"dataframe\">\n",
       "  <thead>\n",
       "    <tr style=\"text-align: right;\">\n",
       "      <th></th>\n",
       "      <th>open</th>\n",
       "      <th>high</th>\n",
       "      <th>low</th>\n",
       "      <th>close</th>\n",
       "      <th>volumn</th>\n",
       "    </tr>\n",
       "  </thead>\n",
       "  <tbody>\n",
       "    <tr>\n",
       "      <th>0</th>\n",
       "      <td>2551.81</td>\n",
       "      <td>2556.93</td>\n",
       "      <td>2551.81</td>\n",
       "      <td>2556.41</td>\n",
       "      <td>790880900</td>\n",
       "    </tr>\n",
       "    <tr>\n",
       "      <th>1</th>\n",
       "      <td>2557.12</td>\n",
       "      <td>2557.82</td>\n",
       "      <td>2544.57</td>\n",
       "      <td>2544.57</td>\n",
       "      <td>480816100</td>\n",
       "    </tr>\n",
       "    <tr>\n",
       "      <th>2</th>\n",
       "      <td>2543.33</td>\n",
       "      <td>2543.33</td>\n",
       "      <td>2538.50</td>\n",
       "      <td>2538.50</td>\n",
       "      <td>359649200</td>\n",
       "    </tr>\n",
       "    <tr>\n",
       "      <th>3</th>\n",
       "      <td>2538.76</td>\n",
       "      <td>2538.76</td>\n",
       "      <td>2534.36</td>\n",
       "      <td>2535.52</td>\n",
       "      <td>294182800</td>\n",
       "    </tr>\n",
       "    <tr>\n",
       "      <th>4</th>\n",
       "      <td>2535.29</td>\n",
       "      <td>2541.49</td>\n",
       "      <td>2535.18</td>\n",
       "      <td>2541.49</td>\n",
       "      <td>267944600</td>\n",
       "    </tr>\n",
       "  </tbody>\n",
       "</table>\n",
       "</div>"
      ],
      "text/plain": [
       "      open     high      low    close     volumn\n",
       "0  2551.81  2556.93  2551.81  2556.41  790880900\n",
       "1  2557.12  2557.82  2544.57  2544.57  480816100\n",
       "2  2543.33  2543.33  2538.50  2538.50  359649200\n",
       "3  2538.76  2538.76  2534.36  2535.52  294182800\n",
       "4  2535.29  2541.49  2535.18  2541.49  267944600"
      ]
     },
     "execution_count": 2,
     "metadata": {},
     "output_type": "execute_result"
    }
   ],
   "source": [
    "data = pd.read_csv('5min_data.csv',encoding=\"gb2312\")\n",
    "data.columns=['date','open','high','low','close','volumn']  \n",
    "data = pd.DataFrame(data,columns=['open','high','low','close','volumn'])\n",
    "data.head()"
   ]
  },
  {
   "cell_type": "code",
   "execution_count": 3,
   "metadata": {},
   "outputs": [],
   "source": [
    "# 特征数量\n",
    "features_num = len(data.columns) - 1\n",
    "# 定义观察时间窗口120/170/220/270\n",
    "observe_time = 120\n",
    "# 定义预测时间窗口5/10/15\n",
    "predict_time = 5\n",
    "# 一组时间窗口\n",
    "group_time = observe_time + predict_time"
   ]
  },
  {
   "cell_type": "markdown",
   "metadata": {},
   "source": [
    "### 分割特征及标签"
   ]
  },
  {
   "cell_type": "code",
   "execution_count": 4,
   "metadata": {},
   "outputs": [
    {
     "name": "stdout",
     "output_type": "stream",
     "text": [
      "(57515, 120, 5) (57515,)\n"
     ]
    }
   ],
   "source": [
    "features,returns = list(),list()\n",
    "for i in range(len(data.close)-group_time):\n",
    "    features.append(np.array(data[i:i+observe_time]))\n",
    "    returns.append(data.close[i+group_time]-data.close[i+observe_time])\n",
    "features = np.array(features)\n",
    "returns = np.array(returns)\n",
    "print(features.shape,returns.shape)"
   ]
  },
  {
   "cell_type": "markdown",
   "metadata": {},
   "source": [
    "### 分割训练集和测试集"
   ]
  },
  {
   "cell_type": "code",
   "execution_count": 5,
   "metadata": {},
   "outputs": [],
   "source": [
    "alpha = 0.8\n",
    "train_length = int(len(features)*alpha)\n",
    "\n",
    "train_data = features[:train_length]\n",
    "test_data = features[train_length:]\n",
    "\n",
    "train_return = returns[:train_length]\n",
    "test_return = returns[train_length:]"
   ]
  },
  {
   "cell_type": "markdown",
   "metadata": {},
   "source": [
    "### 根据收益率实现三分类打标签"
   ]
  },
  {
   "cell_type": "code",
   "execution_count": 6,
   "metadata": {},
   "outputs": [],
   "source": [
    "def segmentation(features,returns,per):\n",
    "    neg_list,pos_list,mid_list = list(),list(),list()\n",
    "    neg_value = round(float(sorted(returns)[int(len(returns)*per):int(len(returns)*per)+1][0]),2)\n",
    "    pos_value = round(float(sorted(returns)[int(len(returns)*(1-per)):int(len(returns)*(1-per))+1][0]),2)\n",
    "    mid_left_value = round(float(sorted(returns)[int(len(returns)*(0.5*(1-per))):int((len(returns)*(0.5*(1-per))))+1][0]),2)\n",
    "    mid_right_value = round(float(sorted(returns)[int(len(returns)*(0.5*(1+per))):int((len(returns)*(0.5*(1+per))))+1][0]),2)\n",
    "    print('正样本最小值:%.2f\\t中样本范围:%.2f~%.2f\\t负样本最大值:%.2f'%(pos_value,mid_left_value,mid_right_value,neg_value))\n",
    "    data_x = list()\n",
    "    data_y = list()\n",
    "    for i in range(len(returns)):\n",
    "        if returns[i]<=neg_value:\n",
    "            data_x.append(features[i])\n",
    "            data_y.append(0)\n",
    "        elif mid_left_value<=returns[i]<=mid_right_value:\n",
    "            data_x.append(features[i])\n",
    "            data_y.append(1)            \n",
    "        elif returns[i]>=pos_value:\n",
    "            data_x.append(features[i])\n",
    "            data_y.append(2)\n",
    "        else:\n",
    "            continue\n",
    "    data_x = np.array(data_x)\n",
    "    data_y = np.array(data_y)\n",
    "    data_x = data_x.reshape(data_x.shape[0],data_x.shape[1],data_x.shape[2],1)\n",
    "#     data_y = data_y.reshape(data_y.shape[0],1)\n",
    "    return data_x,data_y"
   ]
  },
  {
   "cell_type": "code",
   "execution_count": 7,
   "metadata": {},
   "outputs": [
    {
     "name": "stdout",
     "output_type": "stream",
     "text": [
      "正样本最小值:15.62\t中样本范围:-0.90~1.40\t负样本最大值:-14.11\n",
      "(13804, 120, 5, 1) (13804,)\n"
     ]
    }
   ],
   "source": [
    "train_x,train_y = segmentation(train_data,train_return,per=0.1)\n",
    "print(train_x.shape,train_y.shape)"
   ]
  },
  {
   "cell_type": "code",
   "execution_count": 8,
   "metadata": {},
   "outputs": [
    {
     "name": "stdout",
     "output_type": "stream",
     "text": [
      "正样本最小值:9.36\t中样本范围:-0.61~1.08\t负样本最大值:-8.36\n",
      "(3453, 120, 5, 1) (3453,)\n"
     ]
    }
   ],
   "source": [
    "test_x,test_y = segmentation(test_data,test_return,per=0.1)\n",
    "print(test_x.shape,test_y.shape)"
   ]
  },
  {
   "cell_type": "code",
   "execution_count": 9,
   "metadata": {},
   "outputs": [],
   "source": [
    "model = keras.Sequential()\n",
    "model.add(layers.Conv2D(input_shape=(train_x.shape[1], train_x.shape[2], train_x.shape[3]),\n",
    "                        filters=32, kernel_size=(3,3), strides=(1,1), padding='same',\n",
    "                       activation='relu'))\n",
    "model.add(layers.BatchNormalization())\n",
    "model.add(layers.MaxPool2D(pool_size=(2,2)))"
   ]
  },
  {
   "cell_type": "code",
   "execution_count": 10,
   "metadata": {},
   "outputs": [],
   "source": [
    "model.add(layers.Conv2D(input_shape=(train_x.shape[1], train_x.shape[2], train_x.shape[3]),\n",
    "                        filters=16, kernel_size=(3,3), strides=(1,1), padding='same',\n",
    "                       activation='relu'))\n",
    "model.add(layers.MaxPool2D(pool_size=(2,2)))\n",
    "model.add(layers.Flatten())\n",
    "model.add(layers.Dense(16, activation='relu'))\n",
    "model.add(layers.Dense(3, activation='softmax'))"
   ]
  },
  {
   "cell_type": "code",
   "execution_count": 11,
   "metadata": {},
   "outputs": [
    {
     "name": "stdout",
     "output_type": "stream",
     "text": [
      "Model: \"sequential\"\n",
      "_________________________________________________________________\n",
      "Layer (type)                 Output Shape              Param #   \n",
      "=================================================================\n",
      "conv2d (Conv2D)              (None, 120, 5, 32)        320       \n",
      "_________________________________________________________________\n",
      "batch_normalization_v2 (Batc (None, 120, 5, 32)        128       \n",
      "_________________________________________________________________\n",
      "max_pooling2d (MaxPooling2D) (None, 60, 2, 32)         0         \n",
      "_________________________________________________________________\n",
      "conv2d_1 (Conv2D)            (None, 60, 2, 16)         4624      \n",
      "_________________________________________________________________\n",
      "max_pooling2d_1 (MaxPooling2 (None, 30, 1, 16)         0         \n",
      "_________________________________________________________________\n",
      "flatten (Flatten)            (None, 480)               0         \n",
      "_________________________________________________________________\n",
      "dense (Dense)                (None, 16)                7696      \n",
      "_________________________________________________________________\n",
      "dense_1 (Dense)              (None, 3)                 51        \n",
      "=================================================================\n",
      "Total params: 12,819\n",
      "Trainable params: 12,755\n",
      "Non-trainable params: 64\n",
      "_________________________________________________________________\n"
     ]
    }
   ],
   "source": [
    "model.compile(optimizer=keras.optimizers.Adam(),\n",
    "             # loss=keras.losses.CategoricalCrossentropy(),  # 需要使用to_categorical\n",
    "             loss=keras.losses.SparseCategoricalCrossentropy(),\n",
    "              metrics=['accuracy'])\n",
    "model.summary()"
   ]
  },
  {
   "cell_type": "code",
   "execution_count": 15,
   "metadata": {
    "scrolled": true
   },
   "outputs": [
    {
     "name": "stdout",
     "output_type": "stream",
     "text": [
      "Train on 12423 samples, validate on 1381 samples\n",
      "Epoch 1/20\n",
      "12423/12423 [==============================] - 12s 945us/sample - loss: 0.2995 - accuracy: 0.8684 - val_loss: 2.5745 - val_accuracy: 0.5663\n",
      "Epoch 2/20\n",
      "12423/12423 [==============================] - 11s 920us/sample - loss: 0.2915 - accuracy: 0.8718 - val_loss: 2.5551 - val_accuracy: 0.5163\n",
      "Epoch 3/20\n",
      "12423/12423 [==============================] - 11s 915us/sample - loss: 0.3228 - accuracy: 0.8586 - val_loss: 2.5275 - val_accuracy: 0.5590\n",
      "Epoch 4/20\n",
      "12423/12423 [==============================] - 11s 922us/sample - loss: 0.3166 - accuracy: 0.8640 - val_loss: 2.5916 - val_accuracy: 0.5409\n",
      "Epoch 5/20\n",
      "12423/12423 [==============================] - 13s 1ms/sample - loss: 0.3221 - accuracy: 0.8617 - val_loss: 2.3960 - val_accuracy: 0.5699\n",
      "Epoch 6/20\n",
      "12423/12423 [==============================] - 13s 1ms/sample - loss: 0.3169 - accuracy: 0.8609 - val_loss: 2.5433 - val_accuracy: 0.5467\n",
      "Epoch 7/20\n",
      "12423/12423 [==============================] - 13s 1ms/sample - loss: 0.2927 - accuracy: 0.8698 - val_loss: 2.4196 - val_accuracy: 0.5626\n",
      "Epoch 8/20\n",
      "12423/12423 [==============================] - 14s 1ms/sample - loss: 0.2939 - accuracy: 0.8703 - val_loss: 2.5660 - val_accuracy: 0.5605\n",
      "Epoch 9/20\n",
      "12423/12423 [==============================] - 14s 1ms/sample - loss: 0.2917 - accuracy: 0.8704 - val_loss: 2.5574 - val_accuracy: 0.5648\n",
      "Epoch 10/20\n",
      "12423/12423 [==============================] - 14s 1ms/sample - loss: 0.2958 - accuracy: 0.8700 - val_loss: 2.6301 - val_accuracy: 0.5590\n",
      "Epoch 11/20\n",
      "12423/12423 [==============================] - 14s 1ms/sample - loss: 0.3115 - accuracy: 0.8671 - val_loss: 2.6501 - val_accuracy: 0.5395\n",
      "Epoch 12/20\n",
      "12423/12423 [==============================] - 14s 1ms/sample - loss: 0.3278 - accuracy: 0.8584 - val_loss: 2.6616 - val_accuracy: 0.5308\n",
      "Epoch 13/20\n",
      "12423/12423 [==============================] - 14s 1ms/sample - loss: 0.3434 - accuracy: 0.8539 - val_loss: 2.5675 - val_accuracy: 0.5503\n",
      "Epoch 14/20\n",
      "12423/12423 [==============================] - 14s 1ms/sample - loss: 0.3055 - accuracy: 0.8702 - val_loss: 2.6061 - val_accuracy: 0.5720\n",
      "Epoch 15/20\n",
      "12423/12423 [==============================] - 15s 1ms/sample - loss: 0.2988 - accuracy: 0.8721 - val_loss: 2.6426 - val_accuracy: 0.5496\n",
      "Epoch 16/20\n",
      "12423/12423 [==============================] - 14s 1ms/sample - loss: 0.3113 - accuracy: 0.8651 - val_loss: 2.8104 - val_accuracy: 0.5387\n",
      "Epoch 17/20\n",
      "12423/12423 [==============================] - 15s 1ms/sample - loss: 0.3023 - accuracy: 0.8688 - val_loss: 2.7389 - val_accuracy: 0.5583\n",
      "Epoch 18/20\n",
      "12423/12423 [==============================] - 15s 1ms/sample - loss: 0.2864 - accuracy: 0.8741 - val_loss: 2.6630 - val_accuracy: 0.5482\n",
      "Epoch 19/20\n",
      "12423/12423 [==============================] - 14s 1ms/sample - loss: 0.2814 - accuracy: 0.8743 - val_loss: 2.6554 - val_accuracy: 0.5170\n",
      "Epoch 20/20\n",
      "12423/12423 [==============================] - 14s 1ms/sample - loss: 0.2930 - accuracy: 0.8713 - val_loss: 2.7323 - val_accuracy: 0.5373\n"
     ]
    }
   ],
   "source": [
    "history = model.fit(train_x, train_y, batch_size=64, epochs=20, validation_split=0.1)"
   ]
  },
  {
   "cell_type": "code",
   "execution_count": 16,
   "metadata": {},
   "outputs": [
    {
     "data": {
      "text/plain": [
       "<module 'matplotlib.pyplot' from 'c:\\\\users\\\\junming\\\\appdata\\\\local\\\\programs\\\\python\\\\python37\\\\lib\\\\site-packages\\\\matplotlib\\\\pyplot.py'>"
      ]
     },
     "execution_count": 16,
     "metadata": {},
     "output_type": "execute_result"
    },
    {
     "data": {
      "image/png": "[encoded data removed]",
      "text/plain": [
       "<Figure size 432x288 with 1 Axes>"
      ]
     },
     "metadata": {
      "needs_background": "light"
     },
     "output_type": "display_data"
    }
   ],
   "source": [
    "import matplotlib.pyplot as plt\n",
    "plt.plot(history.history['accuracy'])\n",
    "plt.plot(history.history['val_accuracy'])\n",
    "plt.legend(['training', 'valivation'], loc='upper left')\n",
    "plt"
   ]
  },
  {
   "cell_type": "code",
   "execution_count": 17,
   "metadata": {},
   "outputs": [
    {
     "name": "stdout",
     "output_type": "stream",
     "text": [
      "3453/3453 [==============================] - 0s 123us/sample - loss: 32.8889 - accuracy: 0.3695\n"
     ]
    }
   ],
   "source": [
    "res = model.evaluate(test_x, test_y)"
   ]
  },
  {
   "cell_type": "code",
   "execution_count": null,
   "metadata": {},
   "outputs": [],
   "source": []
  }
 ],
 "metadata": {
  "kernelspec": {
   "display_name": "Python 3",
   "language": "python",
   "name": "python3"
  },
  "language_info": {
   "codemirror_mode": {
    "name": "ipython",
    "version": 3
   },
   "file_extension": ".py",
   "mimetype": "text/x-python",
   "name": "python",
   "nbconvert_exporter": "python",
   "pygments_lexer": "ipython3",
   "version": "3.7.4"
  }
 },
 "nbformat": 4,
 "nbformat_minor": 2
}
